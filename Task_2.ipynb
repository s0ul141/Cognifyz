{
 "cells": [
  {
   "cell_type": "markdown",
   "id": "71fb0c28",
   "metadata": {},
   "source": [
    "## Task: Restaurant Recommendation\n",
    "###### Objective: Create a restaurant recommendation system based on user preferences.\n",
    "\n",
    " Steps:\n",
    " \n",
    " Preprocess the dataset by handling missing values and encoding categorical variables.\n",
    " \n",
    " Determine the criteria for restaurant recommendations (e.g., cuisine preference, price range).\n",
    " \n",
    " Implement a content-based filtering approach where users are recommended restaurants similar to their preferred criteria.\n",
    " \n",
    " Test the recommendation system by providing sample user preferences and evaluating the quality of recommendations.\n"
   ]
  },
  {
   "cell_type": "code",
   "execution_count": 1,
   "id": "ec35ac8c",
   "metadata": {},
   "outputs": [],
   "source": [
    "# Import necessary libraries\n",
    "import pandas as pd\n",
    "from sklearn.preprocessing import LabelEncoder\n",
    "from sklearn.metrics.pairwise import cosine_similarity"
   ]
  },
  {
   "cell_type": "code",
   "execution_count": 2,
   "id": "e656d1c6",
   "metadata": {},
   "outputs": [
    {
     "data": {
      "text/plain": [
       "(9551, 21)"
      ]
     },
     "execution_count": 2,
     "metadata": {},
     "output_type": "execute_result"
    }
   ],
   "source": [
    "# Load the dataset\n",
    "df = pd.read_csv('dataset.csv')\n",
    "df.shape"
   ]
  },
  {
   "cell_type": "code",
   "execution_count": 3,
   "id": "ea857388",
   "metadata": {
    "scrolled": true
   },
   "outputs": [
    {
     "data": {
      "text/plain": [
       "Restaurant ID           0\n",
       "Restaurant Name         0\n",
       "Country Code            0\n",
       "City                    0\n",
       "Address                 0\n",
       "Locality                0\n",
       "Locality Verbose        0\n",
       "Longitude               0\n",
       "Latitude                0\n",
       "Cuisines                9\n",
       "Average Cost for two    0\n",
       "Currency                0\n",
       "Has Table booking       0\n",
       "Has Online delivery     0\n",
       "Is delivering now       0\n",
       "Switch to order menu    0\n",
       "Price range             0\n",
       "Aggregate rating        0\n",
       "Rating color            0\n",
       "Rating text             0\n",
       "Votes                   0\n",
       "dtype: int64"
      ]
     },
     "execution_count": 3,
     "metadata": {},
     "output_type": "execute_result"
    }
   ],
   "source": [
    "# Preprocessing\n",
    "## Handle missing values (you might want to handle these differently depending on your dataset)\n",
    "df.isnull().sum()"
   ]
  },
  {
   "cell_type": "code",
   "execution_count": 19,
   "id": "6313aeb4",
   "metadata": {},
   "outputs": [],
   "source": [
    "# Separate the data into rows with known Cuisines and unknown Cuisines\n",
    "data= df # making a copy of the original data set\n",
    "known_cuisines = data[data['Cuisines'].notna()]\n",
    "unknown_cuisines = data[data['Cuisines'].isna()]"
   ]
  },
  {
   "cell_type": "code",
   "execution_count": 20,
   "id": "ead4ed5d",
   "metadata": {
    "scrolled": true
   },
   "outputs": [
    {
     "data": {
      "text/html": [
       "<div>\n",
       "<style scoped>\n",
       "    .dataframe tbody tr th:only-of-type {\n",
       "        vertical-align: middle;\n",
       "    }\n",
       "\n",
       "    .dataframe tbody tr th {\n",
       "        vertical-align: top;\n",
       "    }\n",
       "\n",
       "    .dataframe thead th {\n",
       "        text-align: right;\n",
       "    }\n",
       "</style>\n",
       "<table border=\"1\" class=\"dataframe\">\n",
       "  <thead>\n",
       "    <tr style=\"text-align: right;\">\n",
       "      <th></th>\n",
       "      <th>Restaurant ID</th>\n",
       "      <th>Restaurant Name</th>\n",
       "      <th>Country Code</th>\n",
       "      <th>City</th>\n",
       "      <th>Address</th>\n",
       "      <th>Locality</th>\n",
       "      <th>Locality Verbose</th>\n",
       "      <th>Longitude</th>\n",
       "      <th>Latitude</th>\n",
       "      <th>Cuisines</th>\n",
       "      <th>...</th>\n",
       "      <th>Currency</th>\n",
       "      <th>Has Table booking</th>\n",
       "      <th>Has Online delivery</th>\n",
       "      <th>Is delivering now</th>\n",
       "      <th>Switch to order menu</th>\n",
       "      <th>Price range</th>\n",
       "      <th>Aggregate rating</th>\n",
       "      <th>Rating color</th>\n",
       "      <th>Rating text</th>\n",
       "      <th>Votes</th>\n",
       "    </tr>\n",
       "  </thead>\n",
       "  <tbody>\n",
       "    <tr>\n",
       "      <th>368</th>\n",
       "      <td>17059060</td>\n",
       "      <td>Hillstone</td>\n",
       "      <td>216</td>\n",
       "      <td>Orlando</td>\n",
       "      <td>215 South Orlando Avenue, Winter Park, FL 32789</td>\n",
       "      <td>Winter Park</td>\n",
       "      <td>Winter Park, Orlando</td>\n",
       "      <td>-81.365260</td>\n",
       "      <td>28.596682</td>\n",
       "      <td>NaN</td>\n",
       "      <td>...</td>\n",
       "      <td>Dollar($)</td>\n",
       "      <td>No</td>\n",
       "      <td>No</td>\n",
       "      <td>No</td>\n",
       "      <td>No</td>\n",
       "      <td>3</td>\n",
       "      <td>4.4</td>\n",
       "      <td>Green</td>\n",
       "      <td>Very Good</td>\n",
       "      <td>1158</td>\n",
       "    </tr>\n",
       "    <tr>\n",
       "      <th>418</th>\n",
       "      <td>17142698</td>\n",
       "      <td>Leonard's Bakery</td>\n",
       "      <td>216</td>\n",
       "      <td>Rest of Hawaii</td>\n",
       "      <td>933 Kapahulu Ave, Honolulu, HI 96816</td>\n",
       "      <td>Kaimuki</td>\n",
       "      <td>Kaimuki, Rest of Hawaii</td>\n",
       "      <td>-157.813432</td>\n",
       "      <td>21.284586</td>\n",
       "      <td>NaN</td>\n",
       "      <td>...</td>\n",
       "      <td>Dollar($)</td>\n",
       "      <td>No</td>\n",
       "      <td>No</td>\n",
       "      <td>No</td>\n",
       "      <td>No</td>\n",
       "      <td>1</td>\n",
       "      <td>4.7</td>\n",
       "      <td>Dark Green</td>\n",
       "      <td>Excellent</td>\n",
       "      <td>707</td>\n",
       "    </tr>\n",
       "    <tr>\n",
       "      <th>455</th>\n",
       "      <td>17616465</td>\n",
       "      <td>Tybee Island Social Club</td>\n",
       "      <td>216</td>\n",
       "      <td>Savannah</td>\n",
       "      <td>1311 Butler Ave, Tybee Island, GA 31328</td>\n",
       "      <td>Tybee Island</td>\n",
       "      <td>Tybee Island, Savannah</td>\n",
       "      <td>-80.848297</td>\n",
       "      <td>31.995810</td>\n",
       "      <td>NaN</td>\n",
       "      <td>...</td>\n",
       "      <td>Dollar($)</td>\n",
       "      <td>No</td>\n",
       "      <td>No</td>\n",
       "      <td>No</td>\n",
       "      <td>No</td>\n",
       "      <td>1</td>\n",
       "      <td>3.9</td>\n",
       "      <td>Yellow</td>\n",
       "      <td>Good</td>\n",
       "      <td>309</td>\n",
       "    </tr>\n",
       "  </tbody>\n",
       "</table>\n",
       "<p>3 rows × 21 columns</p>\n",
       "</div>"
      ],
      "text/plain": [
       "     Restaurant ID           Restaurant Name  Country Code            City  \\\n",
       "368       17059060                 Hillstone           216         Orlando   \n",
       "418       17142698          Leonard's Bakery           216  Rest of Hawaii   \n",
       "455       17616465  Tybee Island Social Club           216        Savannah   \n",
       "\n",
       "                                             Address      Locality  \\\n",
       "368  215 South Orlando Avenue, Winter Park, FL 32789   Winter Park   \n",
       "418             933 Kapahulu Ave, Honolulu, HI 96816       Kaimuki   \n",
       "455          1311 Butler Ave, Tybee Island, GA 31328  Tybee Island   \n",
       "\n",
       "            Locality Verbose   Longitude   Latitude Cuisines  ...   Currency  \\\n",
       "368     Winter Park, Orlando  -81.365260  28.596682      NaN  ...  Dollar($)   \n",
       "418  Kaimuki, Rest of Hawaii -157.813432  21.284586      NaN  ...  Dollar($)   \n",
       "455   Tybee Island, Savannah  -80.848297  31.995810      NaN  ...  Dollar($)   \n",
       "\n",
       "    Has Table booking Has Online delivery Is delivering now  \\\n",
       "368                No                  No                No   \n",
       "418                No                  No                No   \n",
       "455                No                  No                No   \n",
       "\n",
       "    Switch to order menu Price range  Aggregate rating  Rating color  \\\n",
       "368                   No           3               4.4         Green   \n",
       "418                   No           1               4.7    Dark Green   \n",
       "455                   No           1               3.9        Yellow   \n",
       "\n",
       "    Rating text Votes  \n",
       "368   Very Good  1158  \n",
       "418   Excellent   707  \n",
       "455        Good   309  \n",
       "\n",
       "[3 rows x 21 columns]"
      ]
     },
     "execution_count": 20,
     "metadata": {},
     "output_type": "execute_result"
    }
   ],
   "source": [
    "unknown_cuisines"
   ]
  },
  {
   "cell_type": "code",
   "execution_count": 10,
   "id": "6da1bb56",
   "metadata": {},
   "outputs": [
    {
     "name": "stdout",
     "output_type": "stream",
     "text": [
      "99         Seafood, Tapas, Bar Food\n",
      "94                              NaN\n",
      "93                          Chinese\n",
      "90        Pizza, Bar Food, Sandwich\n",
      "89       Asian, Chinese, Vegetarian\n",
      "100                  Italian, Pizza\n",
      "97           Japanese, Steak, Sushi\n",
      "92     Chinese, Seafood, Vegetarian\n",
      "88                        Fast Food\n",
      "96                  American, Steak\n",
      "95       American, Burger, Sandwich\n",
      "91           Steak, Tapas, Bar Food\n",
      "98           Japanese, Steak, Sushi\n",
      "85                          Mexican\n",
      "87                              NaN\n",
      "82             BBQ, Burger, Seafood\n",
      "84                              NaN\n",
      "86         Coffee and Tea, Sandwich\n",
      "83                    American, BBQ\n",
      "101      American, Breakfast, Diner\n",
      "Name: Cuisines, dtype: object\n"
     ]
    }
   ],
   "source": [
    "# Assuming 'df' is your DataFrame\n",
    "cuisines_in_albany = df[df['City'] == 'Albany'].sort_values(by='Votes', ascending=False)\n",
    "\n",
    "# Print the sorted cuisines in Albany\n",
    "print(cuisines_in_albany['Cuisines'])\n"
   ]
  },
  {
   "cell_type": "code",
   "execution_count": 17,
   "id": "960f22d8",
   "metadata": {},
   "outputs": [],
   "source": [
    "# missing at Albany\n",
    "df.loc[df['Restaurant Name'] == 'Cookie Shoppe', 'Cuisines'] = 'Coffee, Tea, cookie'\n",
    "df.loc[df['Restaurant Name'] == \"Pearly's Famous Country Cookng\", 'Cuisines'] = 'American, Breakfast, Diner'\n",
    "df.loc[df['Restaurant Name'] == \"Jimmie's Hot Dogs\", 'Cuisines'] = 'Hot Dogs'"
   ]
  },
  {
   "cell_type": "code",
   "execution_count": 18,
   "id": "ff1d5751",
   "metadata": {},
   "outputs": [],
   "source": [
    "df.loc[df['Restaurant Name'] == \"Corkscrew Cafe\", 'Cuisines'] = 'Coffee and Tea, Sandwich'\n",
    "df.loc[df['Restaurant Name'] == 'Dovetail', 'Cuisines'] = 'Italian'\n",
    "df.loc[df['Restaurant Name'] == 'HI Lite Bar & Lounge', 'Cuisines'] = 'American, Breakfast, Diner'\n",
    "df.loc[df['Restaurant Name'] == 'Dovetail', 'Cuisines'] = 'Italian'\n"
   ]
  },
  {
   "cell_type": "code",
   "execution_count": 16,
   "id": "8c60f1c6",
   "metadata": {},
   "outputs": [
    {
     "name": "stdout",
     "output_type": "stream",
     "text": [
      "346    NaN\n",
      "Name: Cuisines, dtype: object\n"
     ]
    }
   ],
   "source": [
    "# Assuming 'df' is your DataFrame\n",
    "cuisines_in_albany = df[df['City'] == 'Miller'].sort_values(by='Votes', ascending=False)\n",
    "\n",
    "# Print the sorted cuisines in Albany\n",
    "print(cuisines_in_albany['Cuisines'])\n"
   ]
  },
  {
   "cell_type": "code",
   "execution_count": 6,
   "id": "949fd9a0",
   "metadata": {
    "scrolled": true
   },
   "outputs": [
    {
     "data": {
      "text/plain": [
       "Index(['Restaurant ID', 'Restaurant Name', 'Country Code', 'City', 'Address',\n",
       "       'Locality', 'Locality Verbose', 'Longitude', 'Latitude', 'Cuisines',\n",
       "       'Average Cost for two', 'Currency', 'Has Table booking',\n",
       "       'Has Online delivery', 'Is delivering now', 'Switch to order menu',\n",
       "       'Price range', 'Aggregate rating', 'Rating color', 'Rating text',\n",
       "       'Votes'],\n",
       "      dtype='object')"
      ]
     },
     "execution_count": 6,
     "metadata": {},
     "output_type": "execute_result"
    }
   ],
   "source": [
    "known_cuisines.columns"
   ]
  },
  {
   "cell_type": "code",
   "execution_count": 8,
   "id": "f6426b33",
   "metadata": {},
   "outputs": [
    {
     "ename": "KeyError",
     "evalue": "False",
     "output_type": "error",
     "traceback": [
      "\u001b[1;31m---------------------------------------------------------------------------\u001b[0m",
      "\u001b[1;31mKeyError\u001b[0m                                  Traceback (most recent call last)",
      "File \u001b[1;32m~\\anaconda3\\Lib\\site-packages\\pandas\\core\\indexes\\base.py:3802\u001b[0m, in \u001b[0;36mIndex.get_loc\u001b[1;34m(self, key, method, tolerance)\u001b[0m\n\u001b[0;32m   3801\u001b[0m \u001b[38;5;28;01mtry\u001b[39;00m:\n\u001b[1;32m-> 3802\u001b[0m     \u001b[38;5;28;01mreturn\u001b[39;00m \u001b[38;5;28mself\u001b[39m\u001b[38;5;241m.\u001b[39m_engine\u001b[38;5;241m.\u001b[39mget_loc(casted_key)\n\u001b[0;32m   3803\u001b[0m \u001b[38;5;28;01mexcept\u001b[39;00m \u001b[38;5;167;01mKeyError\u001b[39;00m \u001b[38;5;28;01mas\u001b[39;00m err:\n",
      "File \u001b[1;32m~\\anaconda3\\Lib\\site-packages\\pandas\\_libs\\index.pyx:138\u001b[0m, in \u001b[0;36mpandas._libs.index.IndexEngine.get_loc\u001b[1;34m()\u001b[0m\n",
      "File \u001b[1;32m~\\anaconda3\\Lib\\site-packages\\pandas\\_libs\\index.pyx:165\u001b[0m, in \u001b[0;36mpandas._libs.index.IndexEngine.get_loc\u001b[1;34m()\u001b[0m\n",
      "File \u001b[1;32mpandas\\_libs\\hashtable_class_helper.pxi:5745\u001b[0m, in \u001b[0;36mpandas._libs.hashtable.PyObjectHashTable.get_item\u001b[1;34m()\u001b[0m\n",
      "File \u001b[1;32mpandas\\_libs\\hashtable_class_helper.pxi:5753\u001b[0m, in \u001b[0;36mpandas._libs.hashtable.PyObjectHashTable.get_item\u001b[1;34m()\u001b[0m\n",
      "\u001b[1;31mKeyError\u001b[0m: False",
      "\nThe above exception was the direct cause of the following exception:\n",
      "\u001b[1;31mKeyError\u001b[0m                                  Traceback (most recent call last)",
      "Cell \u001b[1;32mIn[8], line 1\u001b[0m\n\u001b[1;32m----> 1\u001b[0m known_cuisines[\u001b[38;5;124m'\u001b[39m\u001b[38;5;124mCity\u001b[39m\u001b[38;5;124m'\u001b[39m\u001b[38;5;241m==\u001b[39m\u001b[38;5;124m'\u001b[39m\u001b[38;5;124mAlbany\u001b[39m\u001b[38;5;124m'\u001b[39m]\n",
      "File \u001b[1;32m~\\anaconda3\\Lib\\site-packages\\pandas\\core\\frame.py:3807\u001b[0m, in \u001b[0;36mDataFrame.__getitem__\u001b[1;34m(self, key)\u001b[0m\n\u001b[0;32m   3805\u001b[0m \u001b[38;5;28;01mif\u001b[39;00m \u001b[38;5;28mself\u001b[39m\u001b[38;5;241m.\u001b[39mcolumns\u001b[38;5;241m.\u001b[39mnlevels \u001b[38;5;241m>\u001b[39m \u001b[38;5;241m1\u001b[39m:\n\u001b[0;32m   3806\u001b[0m     \u001b[38;5;28;01mreturn\u001b[39;00m \u001b[38;5;28mself\u001b[39m\u001b[38;5;241m.\u001b[39m_getitem_multilevel(key)\n\u001b[1;32m-> 3807\u001b[0m indexer \u001b[38;5;241m=\u001b[39m \u001b[38;5;28mself\u001b[39m\u001b[38;5;241m.\u001b[39mcolumns\u001b[38;5;241m.\u001b[39mget_loc(key)\n\u001b[0;32m   3808\u001b[0m \u001b[38;5;28;01mif\u001b[39;00m is_integer(indexer):\n\u001b[0;32m   3809\u001b[0m     indexer \u001b[38;5;241m=\u001b[39m [indexer]\n",
      "File \u001b[1;32m~\\anaconda3\\Lib\\site-packages\\pandas\\core\\indexes\\base.py:3804\u001b[0m, in \u001b[0;36mIndex.get_loc\u001b[1;34m(self, key, method, tolerance)\u001b[0m\n\u001b[0;32m   3802\u001b[0m     \u001b[38;5;28;01mreturn\u001b[39;00m \u001b[38;5;28mself\u001b[39m\u001b[38;5;241m.\u001b[39m_engine\u001b[38;5;241m.\u001b[39mget_loc(casted_key)\n\u001b[0;32m   3803\u001b[0m \u001b[38;5;28;01mexcept\u001b[39;00m \u001b[38;5;167;01mKeyError\u001b[39;00m \u001b[38;5;28;01mas\u001b[39;00m err:\n\u001b[1;32m-> 3804\u001b[0m     \u001b[38;5;28;01mraise\u001b[39;00m \u001b[38;5;167;01mKeyError\u001b[39;00m(key) \u001b[38;5;28;01mfrom\u001b[39;00m \u001b[38;5;21;01merr\u001b[39;00m\n\u001b[0;32m   3805\u001b[0m \u001b[38;5;28;01mexcept\u001b[39;00m \u001b[38;5;167;01mTypeError\u001b[39;00m:\n\u001b[0;32m   3806\u001b[0m     \u001b[38;5;66;03m# If we have a listlike key, _check_indexing_error will raise\u001b[39;00m\n\u001b[0;32m   3807\u001b[0m     \u001b[38;5;66;03m#  InvalidIndexError. Otherwise we fall through and re-raise\u001b[39;00m\n\u001b[0;32m   3808\u001b[0m     \u001b[38;5;66;03m#  the TypeError.\u001b[39;00m\n\u001b[0;32m   3809\u001b[0m     \u001b[38;5;28mself\u001b[39m\u001b[38;5;241m.\u001b[39m_check_indexing_error(key)\n",
      "\u001b[1;31mKeyError\u001b[0m: False"
     ]
    }
   ],
   "source": [
    "known_cuisines['City'=='Albany']"
   ]
  },
  {
   "cell_type": "code",
   "execution_count": null,
   "id": "57f502ae",
   "metadata": {},
   "outputs": [],
   "source": [
    "filtered_known_cuisines= known_cuisines[[ 'City', 'Votes', 'Cuisines']]"
   ]
  },
  {
   "cell_type": "code",
   "execution_count": null,
   "id": "7deaa291",
   "metadata": {},
   "outputs": [],
   "source": [
    "#Encode categorical variables\n",
    "label_encoder = LabelEncoder()\n",
    "for column in filtered_known_cuisines.columns:\n",
    "    if filtered_known_cuisines[column].dtype == type(object):\n",
    "        filtered_known_cuisines[column] = label_encoder.fit_transform(known_cuisines[column])"
   ]
  },
  {
   "cell_type": "code",
   "execution_count": null,
   "id": "be446a45",
   "metadata": {},
   "outputs": [],
   "source": [
    "filtered_known_cuisines"
   ]
  },
  {
   "cell_type": "markdown",
   "id": "da6633de",
   "metadata": {},
   "source": [
    "### Classifier Model"
   ]
  },
  {
   "cell_type": "code",
   "execution_count": null,
   "id": "8fd464e2",
   "metadata": {},
   "outputs": [],
   "source": [
    "from sklearn.ensemble import RandomForestClassifier\n",
    "from sklearn.model_selection import train_test_split\n",
    "from sklearn.metrics import accuracy_score\n",
    "from sklearn.metrics import accuracy_score, r2_score\n"
   ]
  },
  {
   "cell_type": "code",
   "execution_count": null,
   "id": "81dc3011",
   "metadata": {},
   "outputs": [],
   "source": [
    "# Select the features for the prediction model\n",
    "# = ['Average Cost for two', 'Has Table booking', 'Has Online delivery', 'Price range']\n",
    "\n",
    "X = filtered_known_cuisines.drop('Cuisines', axis = 1)\n",
    "y = filtered_known_cuisines['Cuisines']\n"
   ]
  },
  {
   "cell_type": "code",
   "execution_count": null,
   "id": "8c757411",
   "metadata": {},
   "outputs": [],
   "source": [
    "from sklearn.ensemble import RandomForestClassifier\n",
    "from sklearn.model_selection import train_test_split\n",
    "from sklearn.metrics import accuracy_score\n",
    "\n",
    "# Assuming X is your feature set and y are the labels\n",
    "X_train, X_test, y_train, y_test = train_test_split(X, y, test_size=0.2, random_state=42)\n",
    "\n",
    "# Create a Random Forest Classifier\n",
    "clf = RandomForestClassifier(n_estimators=100, \n",
    "                             max_depth=100, \n",
    "                             min_samples_split=50, \n",
    "                             min_samples_leaf=50, \n",
    "                             max_features='sqrt', \n",
    "                             random_state=42)\n",
    "\n",
    "# Train the model using the training sets\n",
    "clf.fit(X_train, y_train)\n",
    "\n",
    "# Predict the response for test dataset\n",
    "y_pred = clf.predict(X_test)\n",
    "\n",
    "# Model Accuracy\n",
    "print(\"Accuracy:\", accuracy_score(y_test, y_pred))\n"
   ]
  },
  {
   "cell_type": "code",
   "execution_count": null,
   "id": "8c41268b",
   "metadata": {},
   "outputs": [],
   "source": [
    "\n",
    "r2 = r2_score(y_test, y_pred)\n",
    "print(\"R_squared :\", r2)"
   ]
  },
  {
   "cell_type": "code",
   "execution_count": null,
   "id": "84f4c6a7",
   "metadata": {},
   "outputs": [],
   "source": [
    "# Predict the missing Cuisines in the unknown_cuisines data\n",
    "unknown_cuisines['Cuisines'] = clf.predict(unknown_cuisines[['City']])\n",
    "\n",
    "# Transform the predicted numerical Cuisines back to their original categorical values\n",
    "unknown_cuisines['Cuisines'] = le.inverse_transform(unknown_cuisines['Cuisines'])\n",
    "\n",
    "# Combine the known_cuisines and unknown_cuisines data back together\n",
    "data = pd.concat([known_cuisines, unknown_cuisines])\n",
    "unknown_cuisines"
   ]
  },
  {
   "cell_type": "markdown",
   "id": "b6231810",
   "metadata": {},
   "source": [
    "## step3 :"
   ]
  },
  {
   "cell_type": "code",
   "execution_count": null,
   "id": "a656eb1d",
   "metadata": {},
   "outputs": [],
   "source": [
    "## Encoding categorical variables\n",
    "label_encoder = LabelEncoder()\n",
    "categorical_features = ['cuisine', 'price_range']  # Add other categorical features here\n",
    "for feature in categorical_features:\n",
    "    df[feature] = label_encoder.fit_transform(df[feature])\n",
    "\n",
    "# Determine the criteria for restaurant recommendations\n",
    "## This will depend on the user preferences. For example:\n",
    "user_preferences = {\n",
    "    'cuisine': 'Italian',\n",
    "    'price_range': 'Medium'\n",
    "}\n",
    "# Convert user preferences to encoded form\n",
    "for feature in user_preferences:\n",
    "    user_preferences[feature] = label_encoder.transform([user_preferences[feature]])\n",
    "\n",
    "# Implement a content-based filtering approach\n",
    "## Compute the cosine similarity between user preferences and restaurants\n",
    "user_vector = list(user_preferences.values())\n",
    "restaurant_vectors = df[categorical_features].values\n",
    "similarities = cosine_similarity([user_vector], restaurant_vectors)\n",
    "\n",
    "# Get the top 5 recommended restaurants\n",
    "top_5_index = similarities[0].argsort()[-5:][::-1]\n",
    "recommended_restaurants = df.iloc[top_5_index]\n",
    "\n",
    "print(\"Recommended Restaurants:\")\n",
    "print(recommended_restaurants)\n"
   ]
  }
 ],
 "metadata": {
  "kernelspec": {
   "display_name": "Python 3 (ipykernel)",
   "language": "python",
   "name": "python3"
  },
  "language_info": {
   "codemirror_mode": {
    "name": "ipython",
    "version": 3
   },
   "file_extension": ".py",
   "mimetype": "text/x-python",
   "name": "python",
   "nbconvert_exporter": "python",
   "pygments_lexer": "ipython3",
   "version": "3.11.4"
  }
 },
 "nbformat": 4,
 "nbformat_minor": 5
}
